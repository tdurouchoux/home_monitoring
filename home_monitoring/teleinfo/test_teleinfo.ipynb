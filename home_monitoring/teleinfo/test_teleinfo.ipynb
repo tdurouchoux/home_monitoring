{
 "cells": [
  {
   "cell_type": "code",
   "execution_count": 1,
   "id": "a606a8b3",
   "metadata": {},
   "outputs": [],
   "source": [
    "import serial"
   ]
  },
  {
   "cell_type": "code",
   "execution_count": 2,
   "id": "b752dfc6",
   "metadata": {},
   "outputs": [],
   "source": [
    "a = 1"
   ]
  },
  {
   "cell_type": "code",
   "execution_count": 3,
   "id": "2a930e88",
   "metadata": {},
   "outputs": [
    {
     "data": {
      "text/plain": [
       "1"
      ]
     },
     "execution_count": 3,
     "metadata": {},
     "output_type": "execute_result"
    }
   ],
   "source": [
    "a"
   ]
  },
  {
   "cell_type": "code",
   "execution_count": 54,
   "id": "307dda98",
   "metadata": {},
   "outputs": [
    {
     "name": "stdout",
     "output_type": "stream",
     "text": [
      "MOTDETAT 000000 B\r",
      "\u0003\u0002\n",
      "\n"
     ]
    }
   ],
   "source": [
    "with serial.Serial(port='/dev/ttyS0',\n",
    "                   baudrate=1200,\n",
    "                   parity=serial.PARITY_NONE,\n",
    "                   stopbits=serial.STOPBITS_ONE,\n",
    "                   bytesize=serial.SEVENBITS,\n",
    "                   timeout=1) as ser:\n",
    "    tic_info = []\n",
    "    \n",
    "    line = ser.readline()\n",
    "    \n",
    "    while b'\\x02' not in line:\n",
    "        line = ser.readline()\n",
    "    while b'\\x03' not in line:\n",
    "        line = ser.readline()\n",
    "    print(line.decode('utf-8'))"
   ]
  },
  {
   "cell_type": "code",
   "execution_count": 28,
   "id": "0fa1637c",
   "metadata": {},
   "outputs": [
    {
     "name": "stdout",
     "output_type": "stream",
     "text": [
      "[]\n"
     ]
    }
   ],
   "source": [
    "with serial.Serial(port='/dev/ttyS0',\n",
    "                   baudrate=1200,\n",
    "                   parity=serial.PARITY_NONE,\n",
    "                   stopbits=serial.STOPBITS_ONE,\n",
    "                   bytesize=serial.SEVENBITS,\n",
    "                   timeout=1) as ser:\n",
    "    tic_info = []\n",
    "    \n",
    "    line = ser.readline()\n",
    "\n",
    "    while b'\\x02' not in line:\n",
    "        line = ser.readline()\n",
    "    \n",
    "    while b'\\x03' not in line:\n",
    "        line = ser.readline()\n",
    "        line_str = line.decode(\"utf-8\")\n",
    "        tic_info.append(1)\n",
    "\n",
    "print(tic_info)"
   ]
  },
  {
   "cell_type": "code",
   "execution_count": 5,
   "id": "15953a7d",
   "metadata": {},
   "outputs": [
    {
     "data": {
      "text/plain": [
       "['BAUDRATES',\n",
       " 'BAUDRATE_CONSTANTS',\n",
       " 'BYTESIZES',\n",
       " 'PARITIES',\n",
       " 'STOPBITS',\n",
       " '_SAVED_SETTINGS',\n",
       " '__abstractmethods__',\n",
       " '__class__',\n",
       " '__del__',\n",
       " '__delattr__',\n",
       " '__dict__',\n",
       " '__dir__',\n",
       " '__doc__',\n",
       " '__enter__',\n",
       " '__eq__',\n",
       " '__exit__',\n",
       " '__format__',\n",
       " '__ge__',\n",
       " '__getattribute__',\n",
       " '__gt__',\n",
       " '__hash__',\n",
       " '__init__',\n",
       " '__init_subclass__',\n",
       " '__iter__',\n",
       " '__le__',\n",
       " '__lt__',\n",
       " '__module__',\n",
       " '__ne__',\n",
       " '__new__',\n",
       " '__next__',\n",
       " '__reduce__',\n",
       " '__reduce_ex__',\n",
       " '__repr__',\n",
       " '__setattr__',\n",
       " '__sizeof__',\n",
       " '__str__',\n",
       " '__subclasshook__',\n",
       " '__weakref__',\n",
       " '_abc_impl',\n",
       " '_checkClosed',\n",
       " '_checkReadable',\n",
       " '_checkSeekable',\n",
       " '_checkWritable',\n",
       " '_reconfigure_port',\n",
       " '_reset_input_buffer',\n",
       " '_set_rs485_mode',\n",
       " '_set_special_baudrate',\n",
       " '_update_break_state',\n",
       " '_update_dtr_state',\n",
       " '_update_rts_state',\n",
       " 'applySettingsDict',\n",
       " 'apply_settings',\n",
       " 'baudrate',\n",
       " 'break_condition',\n",
       " 'bytesize',\n",
       " 'cancel_read',\n",
       " 'cancel_write',\n",
       " 'cd',\n",
       " 'close',\n",
       " 'closed',\n",
       " 'cts',\n",
       " 'dsr',\n",
       " 'dsrdtr',\n",
       " 'dtr',\n",
       " 'exclusive',\n",
       " 'fileno',\n",
       " 'flush',\n",
       " 'flushInput',\n",
       " 'flushOutput',\n",
       " 'getCD',\n",
       " 'getCTS',\n",
       " 'getDSR',\n",
       " 'getRI',\n",
       " 'getSettingsDict',\n",
       " 'get_settings',\n",
       " 'inWaiting',\n",
       " 'in_waiting',\n",
       " 'interCharTimeout',\n",
       " 'inter_byte_timeout',\n",
       " 'iread_until',\n",
       " 'isOpen',\n",
       " 'isatty',\n",
       " 'nonblocking',\n",
       " 'open',\n",
       " 'out_waiting',\n",
       " 'parity',\n",
       " 'port',\n",
       " 'read',\n",
       " 'read_all',\n",
       " 'read_until',\n",
       " 'readable',\n",
       " 'readall',\n",
       " 'readinto',\n",
       " 'readline',\n",
       " 'readlines',\n",
       " 'reset_input_buffer',\n",
       " 'reset_output_buffer',\n",
       " 'ri',\n",
       " 'rs485_mode',\n",
       " 'rts',\n",
       " 'rtscts',\n",
       " 'seek',\n",
       " 'seekable',\n",
       " 'sendBreak',\n",
       " 'send_break',\n",
       " 'setDTR',\n",
       " 'setPort',\n",
       " 'setRTS',\n",
       " 'set_input_flow_control',\n",
       " 'set_low_latency_mode',\n",
       " 'set_output_flow_control',\n",
       " 'stopbits',\n",
       " 'tell',\n",
       " 'timeout',\n",
       " 'truncate',\n",
       " 'writable',\n",
       " 'write',\n",
       " 'writeTimeout',\n",
       " 'write_timeout',\n",
       " 'writelines',\n",
       " 'xonxoff']"
      ]
     },
     "execution_count": 5,
     "metadata": {},
     "output_type": "execute_result"
    }
   ],
   "source": [
    "dir(serial.Serial)"
   ]
  },
  {
   "cell_type": "code",
   "execution_count": null,
   "id": "454cde4e",
   "metadata": {},
   "outputs": [],
   "source": []
  }
 ],
 "metadata": {
  "kernelspec": {
   "display_name": "Python 3 (ipykernel)",
   "language": "python",
   "name": "python3"
  },
  "language_info": {
   "codemirror_mode": {
    "name": "ipython",
    "version": 3
   },
   "file_extension": ".py",
   "mimetype": "text/x-python",
   "name": "python",
   "nbconvert_exporter": "python",
   "pygments_lexer": "ipython3",
   "version": "3.7.3"
  }
 },
 "nbformat": 4,
 "nbformat_minor": 5
}
