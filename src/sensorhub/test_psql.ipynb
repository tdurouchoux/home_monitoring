{
 "cells": [
  {
   "cell_type": "markdown",
   "id": "b53cde70",
   "metadata": {},
   "source": [
    "# Test psql"
   ]
  },
  {
   "cell_type": "code",
   "execution_count": 1,
   "id": "1ec80d2e",
   "metadata": {},
   "outputs": [],
   "source": [
    "import psycopg2"
   ]
  },
  {
   "cell_type": "code",
   "execution_count": 10,
   "id": "79c98d98",
   "metadata": {},
   "outputs": [],
   "source": [
    "conn = psycopg2.connect(dbname='sensorhub')"
   ]
  },
  {
   "cell_type": "code",
   "execution_count": 11,
   "id": "7aad191d",
   "metadata": {},
   "outputs": [],
   "source": [
    "cur = conn.cursor()"
   ]
  },
  {
   "cell_type": "code",
   "execution_count": 12,
   "id": "24857de4",
   "metadata": {},
   "outputs": [],
   "source": [
    "cur.execute('SELECT * FROM sensorlog')"
   ]
  },
  {
   "cell_type": "code",
   "execution_count": 13,
   "id": "c9f0a2b2",
   "metadata": {
    "scrolled": true
   },
   "outputs": [
    {
     "data": {
      "text/plain": [
       "[]"
      ]
     },
     "execution_count": 13,
     "metadata": {},
     "output_type": "execute_result"
    }
   ],
   "source": [
    "cur.fetchall()"
   ]
  },
  {
   "cell_type": "code",
   "execution_count": 6,
   "id": "a7c8687e",
   "metadata": {},
   "outputs": [],
   "source": [
    "cur.execute('DELETE FROM sensorlog')"
   ]
  },
  {
   "cell_type": "code",
   "execution_count": 7,
   "id": "24620a5d",
   "metadata": {},
   "outputs": [],
   "source": [
    "conn.commit()"
   ]
  },
  {
   "cell_type": "code",
   "execution_count": 8,
   "id": "c9aa36ca",
   "metadata": {},
   "outputs": [],
   "source": [
    "cur.close()"
   ]
  },
  {
   "cell_type": "code",
   "execution_count": 9,
   "id": "37783401",
   "metadata": {},
   "outputs": [],
   "source": [
    "conn.close()"
   ]
  },
  {
   "cell_type": "markdown",
   "id": "2e0084d9",
   "metadata": {},
   "source": [
    "# Test sensorhub"
   ]
  },
  {
   "cell_type": "code",
   "execution_count": 4,
   "id": "386eafaf",
   "metadata": {},
   "outputs": [],
   "source": [
    "import smbus\n",
    "\n",
    "DEVICE_BUS = 1\n",
    "DEVICE_ADDR = 0x17\n",
    "\n",
    "TEMP_REG = 0x01\n",
    "LIGHT_REG_L = 0x02\n",
    "LIGHT_REG_H = 0x03\n",
    "STATUS_REG = 0x04\n",
    "ON_BOARD_TEMP_REG = 0x05\n",
    "ON_BOARD_HUMIDITY_REG = 0x06\n",
    "ON_BOARD_SENSOR_ERROR = 0x07\n",
    "BMP280_TEMP_REG = 0x08\n",
    "BMP280_PRESSURE_REG_L = 0x09\n",
    "BMP280_PRESSURE_REG_M = 0x0A\n",
    "BMP280_PRESSURE_REG_H = 0x0B\n",
    "BMP280_STATUS = 0x0C\n",
    "HUMAN_DETECT = 0x0D"
   ]
  },
  {
   "cell_type": "code",
   "execution_count": 5,
   "id": "50c98e71",
   "metadata": {},
   "outputs": [],
   "source": [
    "bus = smbus.SMBus(DEVICE_BUS)"
   ]
  },
  {
   "cell_type": "code",
   "execution_count": 6,
   "id": "776f4c06",
   "metadata": {},
   "outputs": [
    {
     "data": {
      "text/plain": [
       "21"
      ]
     },
     "execution_count": 6,
     "metadata": {},
     "output_type": "execute_result"
    }
   ],
   "source": [
    "bus.read_byte_data(DEVICE_ADDR, TEMP_REG)"
   ]
  },
  {
   "cell_type": "code",
   "execution_count": 8,
   "id": "66067691",
   "metadata": {
    "scrolled": true
   },
   "outputs": [
    {
     "name": "stdout",
     "output_type": "stream",
     "text": [
      "Current off-chip sensor temperature = 21 Celsius\n",
      "Current onboard sensor brightness = 20 Lux\n",
      "Current onboard sensor temperature = 24 Celsius\n",
      "Current onboard sensor humidity = 61 %\n",
      "Current barometer temperature = 24 Celsius\n",
      "Current barometer pressure = 101517 pascal\n",
      "No humans detected!\n"
     ]
    }
   ],
   "source": [
    "aReceiveBuf = []\n",
    "\n",
    "aReceiveBuf.append(0x00) # 占位符\n",
    "\n",
    "for i in range(TEMP_REG,HUMAN_DETECT + 1):\n",
    "    aReceiveBuf.append(bus.read_byte_data(DEVICE_ADDR, i))\n",
    "\n",
    "if aReceiveBuf[STATUS_REG] & 0x01 :\n",
    "    print(\"Off-chip temperature sensor overrange!\")\n",
    "elif aReceiveBuf[STATUS_REG] & 0x02 :\n",
    "    print(\"No external temperature sensor!\")\n",
    "else :\n",
    "    print(\"Current off-chip sensor temperature = %d Celsius\" % aReceiveBuf[TEMP_REG])\n",
    "\n",
    "\n",
    "if aReceiveBuf[STATUS_REG] & 0x04 :\n",
    "    print(\"Onboard brightness sensor overrange!\")\n",
    "elif aReceiveBuf[STATUS_REG] & 0x08 :\n",
    "    print(\"Onboard brightness sensor failure!\")\n",
    "else :\n",
    "    print(\"Current onboard sensor brightness = %d Lux\" % (aReceiveBuf[LIGHT_REG_H] << 8 | aReceiveBuf[LIGHT_REG_L]))\n",
    "\n",
    "print(\"Current onboard sensor temperature = %d Celsius\" % aReceiveBuf[ON_BOARD_TEMP_REG])\n",
    "print(\"Current onboard sensor humidity = %d %%\" % aReceiveBuf[ON_BOARD_HUMIDITY_REG])\n",
    "\n",
    "if aReceiveBuf[ON_BOARD_SENSOR_ERROR] != 0 :\n",
    "    print(\"Onboard temperature and humidity sensor data may not be up to date!\")\n",
    "\n",
    "if aReceiveBuf[BMP280_STATUS] == 0 :\n",
    "    print(\"Current barometer temperature = %d Celsius\" % aReceiveBuf[BMP280_TEMP_REG])\n",
    "    print(\"Current barometer pressure = %d pascal\" % (aReceiveBuf[BMP280_PRESSURE_REG_L] | aReceiveBuf[BMP280_PRESSURE_REG_M] << 8 | aReceiveBuf[BMP280_PRESSURE_REG_H] << 16))\n",
    "else :\n",
    "    print(\"Onboard barometer works abnormally!\")\n",
    "\n",
    "if aReceiveBuf[HUMAN_DETECT] == 1 :\n",
    "    print(\"Live body detected within 5 seconds!\")\n",
    "else:\n",
    "    print(\"No humans detected!\")"
   ]
  },
  {
   "cell_type": "code",
   "execution_count": 12,
   "id": "41798458",
   "metadata": {},
   "outputs": [],
   "source": [
    "import time"
   ]
  },
  {
   "cell_type": "code",
   "execution_count": 9,
   "id": "53d2586d",
   "metadata": {},
   "outputs": [
    {
     "data": {
      "text/plain": [
       "0"
      ]
     },
     "execution_count": 9,
     "metadata": {},
     "output_type": "execute_result"
    }
   ],
   "source": [
    "aaReceiveBuf[HUMAN_DETECT]"
   ]
  },
  {
   "cell_type": "code",
   "execution_count": 13,
   "id": "660cae0e",
   "metadata": {},
   "outputs": [],
   "source": [
    "date = time.strftime('%Y-%m-%d %H:%M:%S')\n",
    "tempOffChip = str(aReceiveBuf[TEMP_REG])\n",
    "brightness = str((aReceiveBuf[LIGHT_REG_H] << 8 | aReceiveBuf[LIGHT_REG_L]))\n",
    "tempOnChip = str(aReceiveBuf[ON_BOARD_TEMP_REG])\n",
    "humidity = str(aReceiveBuf[ON_BOARD_HUMIDITY_REG])\n",
    "tempBarometer = str(aReceiveBuf[BMP280_TEMP_REG])\n",
    "pressure = str(aReceiveBuf[BMP280_PRESSURE_REG_L] | aReceiveBuf[BMP280_PRESSURE_REG_M] << 8 | aReceiveBuf[BMP280_PRESSURE_REG_H] << 16)\n",
    "humanDetected = str(aReceiveBuf[HUMAN_DETECT])"
   ]
  },
  {
   "cell_type": "code",
   "execution_count": 3,
   "id": "b67eb79c",
   "metadata": {},
   "outputs": [
    {
     "ename": "NameError",
     "evalue": "name 'date' is not defined",
     "output_type": "error",
     "traceback": [
      "\u001b[0;31m---------------------------------------------------------------------------\u001b[0m",
      "\u001b[0;31mNameError\u001b[0m                                 Traceback (most recent call last)",
      "\u001b[0;32m/tmp/ipykernel_760/2567520018.py\u001b[0m in \u001b[0;36m<module>\u001b[0;34m\u001b[0m\n\u001b[0;32m----> 1\u001b[0;31m \u001b[0mdate\u001b[0m\u001b[0;34m,\u001b[0m \u001b[0mtempOffChip\u001b[0m\u001b[0;34m,\u001b[0m \u001b[0mbrightness\u001b[0m\u001b[0;34m,\u001b[0m \u001b[0mtempOnChip\u001b[0m\u001b[0;34m,\u001b[0m \u001b[0mhumidity\u001b[0m\u001b[0;34m,\u001b[0m \u001b[0mtempBarometer\u001b[0m\u001b[0;34m,\u001b[0m \u001b[0mpressure\u001b[0m\u001b[0;34m,\u001b[0m \u001b[0mhumanDetected\u001b[0m\u001b[0;34m\u001b[0m\u001b[0;34m\u001b[0m\u001b[0m\n\u001b[0m",
      "\u001b[0;31mNameError\u001b[0m: name 'date' is not defined"
     ]
    }
   ],
   "source": [
    "date, tempOffChip, brightness, tempOnChip, humidity, tempBarometer, pressure, humanDetected"
   ]
  },
  {
   "cell_type": "code",
   "execution_count": null,
   "id": "ba3ddcb3",
   "metadata": {},
   "outputs": [],
   "source": [
    "(Date timestamp, TempOffchip int, Brightness float8, TempOnChip int, Humidity int, TempBaromter int, Pressure float8, HumanDetected bool)"
   ]
  },
  {
   "cell_type": "code",
   "execution_count": 41,
   "id": "9add9cd2",
   "metadata": {
    "scrolled": false
   },
   "outputs": [],
   "source": [
    "cur.execute(\"INSERT INTO sensorlog (Date, TempOffchip, Brightness, TempOnChip, Humidity, TempBaromter, Pressure, HumanDetected) values (%s, %s, %s, %s, %s, %s, %s, %s)\",(date, tempOffChip, brightness, tempOnChip, humidity, tempBarometer, pressure, humanDetected))"
   ]
  },
  {
   "cell_type": "code",
   "execution_count": 48,
   "id": "eaa1acd0",
   "metadata": {},
   "outputs": [],
   "source": [
    "d = {'bonjour': 1,\n",
    "       'connard': 2.0}"
   ]
  },
  {
   "cell_type": "code",
   "execution_count": 45,
   "id": "4ebd7e28",
   "metadata": {
    "scrolled": true
   },
   "outputs": [
    {
     "ename": "TypeError",
     "evalue": "sequence item 0: expected str instance, int found",
     "output_type": "error",
     "traceback": [
      "\u001b[0;31m---------------------------------------------------------------------------\u001b[0m",
      "\u001b[0;31mTypeError\u001b[0m                                 Traceback (most recent call last)",
      "\u001b[0;32m/tmp/ipykernel_1039/73574564.py\u001b[0m in \u001b[0;36m<module>\u001b[0;34m\u001b[0m\n\u001b[0;32m----> 1\u001b[0;31m \u001b[0;34m','\u001b[0m\u001b[0;34m.\u001b[0m\u001b[0mjoin\u001b[0m\u001b[0;34m(\u001b[0m\u001b[0md\u001b[0m\u001b[0;34m.\u001b[0m\u001b[0mvalues\u001b[0m\u001b[0;34m(\u001b[0m\u001b[0;34m)\u001b[0m\u001b[0;34m)\u001b[0m\u001b[0;34m\u001b[0m\u001b[0;34m\u001b[0m\u001b[0m\n\u001b[0m",
      "\u001b[0;31mTypeError\u001b[0m: sequence item 0: expected str instance, int found"
     ]
    }
   ],
   "source": [
    "','.join(d.values())"
   ]
  },
  {
   "cell_type": "code",
   "execution_count": 38,
   "id": "a9cc067e",
   "metadata": {},
   "outputs": [],
   "source": [
    "l = [1,325,6]"
   ]
  },
  {
   "cell_type": "code",
   "execution_count": 54,
   "id": "5edb8447",
   "metadata": {},
   "outputs": [
    {
     "data": {
      "text/plain": [
       "\"l=('bonjour', 'connard')\""
      ]
     },
     "execution_count": 54,
     "metadata": {},
     "output_type": "execute_result"
    }
   ],
   "source": [
    "f'l={*d.keys(),}'"
   ]
  },
  {
   "cell_type": "markdown",
   "id": "8a83c6fa",
   "metadata": {},
   "source": [
    "# Test timer"
   ]
  },
  {
   "cell_type": "code",
   "execution_count": 54,
   "id": "060a076f",
   "metadata": {},
   "outputs": [],
   "source": [
    "import threading"
   ]
  },
  {
   "cell_type": "code",
   "execution_count": 57,
   "id": "01343885",
   "metadata": {
    "scrolled": true
   },
   "outputs": [],
   "source": [
    "def infinite_loop():\n",
    "    for i in range (100):\n",
    "        print('coucou')\n",
    "        time.sleep(1)"
   ]
  },
  {
   "cell_type": "code",
   "execution_count": 63,
   "id": "272fdf36",
   "metadata": {},
   "outputs": [],
   "source": [
    "thread = threading.Thread(target=infinite_loop)"
   ]
  },
  {
   "cell_type": "code",
   "execution_count": 64,
   "id": "962c5cf9",
   "metadata": {
    "scrolled": true
   },
   "outputs": [
    {
     "name": "stdout",
     "output_type": "stream",
     "text": [
      "coucou\n",
      "fuck you\n",
      "coucou\n",
      "coucou\n",
      "coucou\n",
      "coucou\n",
      "coucou\n",
      "coucou\n",
      "coucou\n",
      "coucou\n",
      "coucou\n"
     ]
    }
   ],
   "source": [
    "thread.start()\n",
    "time.sleep(0.5)\n",
    "print('fuck you')"
   ]
  },
  {
   "cell_type": "code",
   "execution_count": 1,
   "id": "3c7952ea",
   "metadata": {},
   "outputs": [],
   "source": [
    "from threading import Timer\n",
    "import time\n",
    "import sched"
   ]
  },
  {
   "cell_type": "code",
   "execution_count": 2,
   "id": "a1dbf91c",
   "metadata": {},
   "outputs": [],
   "source": [
    "def long_function_timer(i):\n",
    "    if i<5: \n",
    "        t = Timer(10,long_function_timer,[i+1])\n",
    "        t.start()\n",
    "    print('starting at :',time.time() )\n",
    "    time.sleep(2)\n",
    "    \n",
    "    print('stopping at :',time.time() )\n",
    "    \n",
    "    "
   ]
  },
  {
   "cell_type": "code",
   "execution_count": 3,
   "id": "0113adb7",
   "metadata": {
    "scrolled": true
   },
   "outputs": [
    {
     "name": "stdout",
     "output_type": "stream",
     "text": [
      "starting at : 1636058333.044665\n",
      "stopping at : 1636058335.062239\n",
      "starting at : 1636058343.066123\n",
      "stopping at : 1636058345.0742104\n",
      "starting at : 1636058353.080911\n",
      "stopping at : 1636058355.0911896\n",
      "starting at : 1636058363.091758\n",
      "stopping at : 1636058365.0997896\n",
      "starting at : 1636058373.1100118\n",
      "stopping at : 1636058375.117895\n",
      "starting at : 1636058383.125869\n",
      "stopping at : 1636058385.1322\n"
     ]
    }
   ],
   "source": [
    "long_function_timer(0)"
   ]
  },
  {
   "cell_type": "code",
   "execution_count": 57,
   "id": "bd19d5c2",
   "metadata": {},
   "outputs": [],
   "source": [
    "import sched"
   ]
  },
  {
   "cell_type": "code",
   "execution_count": 61,
   "id": "03361588",
   "metadata": {},
   "outputs": [],
   "source": [
    "def long_function_sched(s, i):\n",
    "    if i<10: \n",
    "        s.enter(10,1,  long_function_sched, argument=(s,i+1,))\n",
    "    print('starting at :',time.time() )\n",
    "    time.sleep(2)\n",
    "    \n",
    "    print('stopping at :',time.time() )\n",
    "    \n",
    "    "
   ]
  },
  {
   "cell_type": "code",
   "execution_count": 62,
   "id": "99bf2dc4",
   "metadata": {},
   "outputs": [],
   "source": [
    "s = sched.scheduler(time.time, time.sleep)"
   ]
  },
  {
   "cell_type": "code",
   "execution_count": 63,
   "id": "282796d1",
   "metadata": {},
   "outputs": [
    {
     "name": "stdout",
     "output_type": "stream",
     "text": [
      "starting at : 1636065298.745115\n",
      "stopping at : 1636065300.7536552\n"
     ]
    }
   ],
   "source": [
    "long_function_sched(s, 0)"
   ]
  },
  {
   "cell_type": "markdown",
   "id": "15e4d39b",
   "metadata": {},
   "source": [
    "# Test logger"
   ]
  },
  {
   "cell_type": "code",
   "execution_count": 1,
   "id": "dc4b65f1",
   "metadata": {},
   "outputs": [],
   "source": [
    "from loguru import logger"
   ]
  },
  {
   "cell_type": "code",
   "execution_count": 4,
   "id": "9f5fc541",
   "metadata": {},
   "outputs": [
    {
     "data": {
      "text/plain": [
       "2"
      ]
     },
     "execution_count": 4,
     "metadata": {},
     "output_type": "execute_result"
    }
   ],
   "source": [
    "logger.add('test.log', enqueue=True)"
   ]
  },
  {
   "cell_type": "code",
   "execution_count": 3,
   "id": "90d32d85",
   "metadata": {},
   "outputs": [
    {
     "name": "stderr",
     "output_type": "stream",
     "text": [
      "2021-10-24 22:27:22.855 | INFO     | __main__:<module>:1 - hello world\n"
     ]
    }
   ],
   "source": [
    "logger.info('hello world')"
   ]
  },
  {
   "cell_type": "markdown",
   "id": "8e4a9156",
   "metadata": {},
   "source": [
    "# Test sensor connector class"
   ]
  },
  {
   "cell_type": "code",
   "execution_count": 20,
   "id": "ecae5814",
   "metadata": {
    "scrolled": true
   },
   "outputs": [
    {
     "name": "stdout",
     "output_type": "stream",
     "text": [
      "The autoreload extension is already loaded. To reload it, use:\n",
      "  %reload_ext autoreload\n"
     ]
    }
   ],
   "source": [
    "%load_ext autoreload\n",
    "%autoreload 2\n",
    "from sensor_connector import SensorConnector"
   ]
  },
  {
   "cell_type": "code",
   "execution_count": 21,
   "id": "1fab05df",
   "metadata": {},
   "outputs": [],
   "source": [
    "sensorConnector = SensorConnector()"
   ]
  },
  {
   "cell_type": "code",
   "execution_count": 23,
   "id": "760e58f1",
   "metadata": {
    "scrolled": false
   },
   "outputs": [
    {
     "name": "stderr",
     "output_type": "stream",
     "text": [
      "2021-11-04 22:38:26.212 | INFO     | sensor_connector:get_all_sensors:79 - Starting sensors data aquisition\n",
      "2021-11-04 22:38:26.247 | INFO     | sensor_connector:get_all_sensors:93 - Sensors Data aquisition finished\n"
     ]
    },
    {
     "data": {
      "text/plain": [
       "(21, 21, 24, 63, 24, 1.01582, 1)"
      ]
     },
     "execution_count": 23,
     "metadata": {},
     "output_type": "execute_result"
    }
   ],
   "source": [
    "sensorConnector.get_all_sensors()"
   ]
  },
  {
   "cell_type": "code",
   "execution_count": 50,
   "id": "1719f522",
   "metadata": {},
   "outputs": [],
   "source": [
    "starting_time = time.strftime('%d_%m_%H:%M')\n"
   ]
  },
  {
   "cell_type": "code",
   "execution_count": 51,
   "id": "9a85f064",
   "metadata": {},
   "outputs": [
    {
     "data": {
      "text/plain": [
       "'log/sensor_log_04_11_23:28.log'"
      ]
     },
     "execution_count": 51,
     "metadata": {},
     "output_type": "execute_result"
    }
   ],
   "source": [
    "f'log/sensor_log_{starting_time}.log'"
   ]
  },
  {
   "cell_type": "markdown",
   "id": "221ca154",
   "metadata": {},
   "source": [
    "# Test PsqlConnector"
   ]
  },
  {
   "cell_type": "code",
   "execution_count": 1,
   "id": "edc16b79",
   "metadata": {},
   "outputs": [],
   "source": [
    "%load_ext autoreload\n",
    "%autoreload 2\n",
    "from psql_connector import PsqlConnector"
   ]
  },
  {
   "cell_type": "code",
   "execution_count": 5,
   "id": "35059fbf",
   "metadata": {},
   "outputs": [],
   "source": [
    "psqlConnector = PsqlConnector('sensorhub')"
   ]
  },
  {
   "cell_type": "code",
   "execution_count": 8,
   "id": "614e7430",
   "metadata": {
    "scrolled": true
   },
   "outputs": [
    {
     "name": "stdout",
     "output_type": "stream",
     "text": [
      "Are you sure that you want to delete of table \"sensorlog\" in database \"sensorhub\" ?  (y, n) [n]: \n",
      "Delete aborted.\n"
     ]
    }
   ],
   "source": [
    "psqlConnector.delete_content('sensorlog')"
   ]
  },
  {
   "cell_type": "code",
   "execution_count": null,
   "id": "1229ab93",
   "metadata": {},
   "outputs": [],
   "source": []
  }
 ],
 "metadata": {
  "kernelspec": {
   "display_name": "Python 3 (ipykernel)",
   "language": "python",
   "name": "python3"
  },
  "language_info": {
   "codemirror_mode": {
    "name": "ipython",
    "version": 3
   },
   "file_extension": ".py",
   "mimetype": "text/x-python",
   "name": "python",
   "nbconvert_exporter": "python",
   "pygments_lexer": "ipython3",
   "version": "3.7.3"
  }
 },
 "nbformat": 4,
 "nbformat_minor": 5
}
